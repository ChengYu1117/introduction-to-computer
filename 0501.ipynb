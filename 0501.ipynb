{
  "nbformat": 4,
  "nbformat_minor": 0,
  "metadata": {
    "colab": {
      "provenance": [],
      "authorship_tag": "ABX9TyNXzXd6mLHGhgwSEU3r9xzu",
      "include_colab_link": true
    },
    "kernelspec": {
      "name": "python3",
      "display_name": "Python 3"
    },
    "language_info": {
      "name": "python"
    }
  },
  "cells": [
    {
      "cell_type": "markdown",
      "metadata": {
        "id": "view-in-github",
        "colab_type": "text"
      },
      "source": [
        "<a href=\"https://colab.research.google.com/github/ChengYu1117/introduction-to-computer/blob/main/0501.ipynb\" target=\"_parent\"><img src=\"https://colab.research.google.com/assets/colab-badge.svg\" alt=\"Open In Colab\"/></a>"
      ]
    },
    {
      "cell_type": "code",
      "execution_count": 1,
      "metadata": {
        "colab": {
          "base_uri": "https://localhost:8080/"
        },
        "id": "D5L_D9QayfJn",
        "outputId": "0a007588-3ec7-403b-d37c-053297ccedd9"
      },
      "outputs": [
        {
          "output_type": "stream",
          "name": "stdout",
          "text": [
            "0501\n"
          ]
        }
      ],
      "source": [
        "print(\"0501\")"
      ]
    },
    {
      "cell_type": "code",
      "source": [
        "1 1"
      ],
      "metadata": {
        "colab": {
          "base_uri": "https://localhost:8080/",
          "height": 106
        },
        "id": "McLi7WOUy17U",
        "outputId": "24ce2fec-e68c-4aa7-b1f2-dddda1d63516"
      },
      "execution_count": 2,
      "outputs": [
        {
          "output_type": "error",
          "ename": "SyntaxError",
          "evalue": "invalid syntax (<ipython-input-2-d998709663ea>, line 1)",
          "traceback": [
            "\u001b[0;36m  File \u001b[0;32m\"<ipython-input-2-d998709663ea>\"\u001b[0;36m, line \u001b[0;32m1\u001b[0m\n\u001b[0;31m    1 1\u001b[0m\n\u001b[0m      ^\u001b[0m\n\u001b[0;31mSyntaxError\u001b[0m\u001b[0;31m:\u001b[0m invalid syntax\n"
          ]
        }
      ]
    },
    {
      "cell_type": "code",
      "source": [
        "1    1"
      ],
      "metadata": {
        "colab": {
          "base_uri": "https://localhost:8080/",
          "height": 106
        },
        "id": "MZiimWCZy57Z",
        "outputId": "05a3dc87-e406-4592-cd4d-12df1cf3d015"
      },
      "execution_count": 3,
      "outputs": [
        {
          "output_type": "error",
          "ename": "SyntaxError",
          "evalue": "invalid syntax (<ipython-input-3-0f40383accdb>, line 1)",
          "traceback": [
            "\u001b[0;36m  File \u001b[0;32m\"<ipython-input-3-0f40383accdb>\"\u001b[0;36m, line \u001b[0;32m1\u001b[0m\n\u001b[0;31m    1    1\u001b[0m\n\u001b[0m         ^\u001b[0m\n\u001b[0;31mSyntaxError\u001b[0m\u001b[0;31m:\u001b[0m invalid syntax\n"
          ]
        }
      ]
    },
    {
      "cell_type": "code",
      "source": [
        "score = int(input(\"請輸入分數\"))\n",
        "if(score >= 60):\n",
        "  print(\"及格\")"
      ],
      "metadata": {
        "colab": {
          "base_uri": "https://localhost:8080/"
        },
        "id": "UWO2cKJ1zbjA",
        "outputId": "a140d329-280a-4a99-d2f8-9aab83438f3a"
      },
      "execution_count": 4,
      "outputs": [
        {
          "output_type": "stream",
          "name": "stdout",
          "text": [
            "請輸入分數70\n",
            "及格\n"
          ]
        }
      ]
    },
    {
      "cell_type": "code",
      "source": [
        "數學 = 60\n",
        "英文 = 70\n",
        "if 數學 > 英文:\n",
        "  print(\"數學比較高\")\n",
        "else:\n",
        "  print(\"英文比較高\")"
      ],
      "metadata": {
        "colab": {
          "base_uri": "https://localhost:8080/"
        },
        "id": "Q0n-hptl0MZ-",
        "outputId": "48f9706c-403e-4aba-eb93-74137b8235c6"
      },
      "execution_count": 5,
      "outputs": [
        {
          "output_type": "stream",
          "name": "stdout",
          "text": [
            "英文比較高\n"
          ]
        }
      ]
    },
    {
      "cell_type": "code",
      "source": [
        "password = int(input(\"請輸入密碼\"))\n",
        "if(password == 1234):\n",
        "  print(\"歡迎光臨!\")"
      ],
      "metadata": {
        "colab": {
          "base_uri": "https://localhost:8080/"
        },
        "id": "by67FGW61xUa",
        "outputId": "294b1713-2376-4e25-bf9b-f91e1ac34579"
      },
      "execution_count": 6,
      "outputs": [
        {
          "output_type": "stream",
          "name": "stdout",
          "text": [
            "請輸入密碼1234\n",
            "歡迎光臨!\n"
          ]
        }
      ]
    },
    {
      "cell_type": "code",
      "source": [
        "rain = str(input(\"今天會下雨嗎?\"))\n",
        "if (rain == \"Y\" or rain == \"y\"):\n",
        "  print(\"出門記得帶傘!\")"
      ],
      "metadata": {
        "colab": {
          "base_uri": "https://localhost:8080/"
        },
        "id": "u6DmO3MP23eh",
        "outputId": "b19bd21b-47a1-43a4-cee0-9abdaa57141a"
      },
      "execution_count": 7,
      "outputs": [
        {
          "output_type": "stream",
          "name": "stdout",
          "text": [
            "今天會下雨嗎?y\n",
            "出門記得帶傘!\n"
          ]
        }
      ]
    },
    {
      "cell_type": "code",
      "source": [
        "password = int(input(\"請輸入密碼\"))\n",
        "if(password == 1111):\n",
        "  print(\"密碼錯誤!\")"
      ],
      "metadata": {
        "colab": {
          "base_uri": "https://localhost:8080/"
        },
        "id": "jdG08hVL3fW2",
        "outputId": "f022fc1b-47e6-448a-b8de-2bbfa94df152"
      },
      "execution_count": 8,
      "outputs": [
        {
          "output_type": "stream",
          "name": "stdout",
          "text": [
            "請輸入密碼1111\n",
            "密碼錯誤!\n"
          ]
        }
      ]
    },
    {
      "cell_type": "code",
      "source": [
        "rain = str(input(\"今天會下雨嗎?\"))\n",
        "if (rain == \"N\" or rain == \"n\"):\n",
        "  print(\"不用帶傘\")"
      ],
      "metadata": {
        "colab": {
          "base_uri": "https://localhost:8080/"
        },
        "id": "BDQxSSHd5FPq",
        "outputId": "6f833e67-13d1-40e4-c10b-81e44df25716"
      },
      "execution_count": 9,
      "outputs": [
        {
          "output_type": "stream",
          "name": "stdout",
          "text": [
            "今天會下雨嗎?n\n",
            "不用帶傘\n"
          ]
        }
      ]
    },
    {
      "cell_type": "code",
      "source": [
        "偶數 = 50\n",
        "奇數 = 51\n",
        "if 51 == 奇數:\n",
        "  print(\"51為奇數!\")\n",
        "else:\n",
        "  print(\"50為偶數!\")"
      ],
      "metadata": {
        "colab": {
          "base_uri": "https://localhost:8080/"
        },
        "id": "ekWj4Nk35sFa",
        "outputId": "871a83b2-2227-4b6f-b263-01e520576bbd"
      },
      "execution_count": 10,
      "outputs": [
        {
          "output_type": "stream",
          "name": "stdout",
          "text": [
            "51為奇數!\n"
          ]
        }
      ]
    }
  ]
}